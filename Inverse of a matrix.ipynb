{
 "cells": [
  {
   "cell_type": "code",
   "execution_count": null,
   "metadata": {},
   "outputs": [],
   "source": [
    "## Caching the Inverse of a Matrix:\n",
    "## Matrix inversion is usually a costly computation and there may be some \n",
    "## benefit to caching the inverse of a matrix rather than compute it repeatedly.\n",
    "## Below are a pair of functions that are used to create a special object that \n",
    "## stores a matrix and caches its inverse.\n",
    "\n",
    "## This function creates a special \"matrix\" object that can cache its inverse.\n",
    "\n",
    "makeCacheMatrix <- function(x = matrix()) {\n",
    "        inv <- NULL\n",
    "        set <- function(y) {\n",
    "                x <<- y\n",
    "                inv <<- NULL\n",
    "        }\n",
    "        get <- function() x\n",
    "        setInverse <- function(inverse) inv <<- inverse\n",
    "        getInverse <- function() inv\n",
    "        list(set = set,\n",
    "             get = get,\n",
    "             setInverse = setInverse,\n",
    "             getInverse = getInverse)\n",
    "}\n",
    "\n",
    "\n",
    "## This function computes the inverse of the special \"matrix\" created by \n",
    "## makeCacheMatrix above. If the inverse has already been calculated (and the \n",
    "## matrix has not changed), then it should retrieve the inverse from the cache.\n",
    "\n",
    "cacheSolve <- function(x, ...) {\n",
    "        ## Return a matrix that is the inverse of 'x'\n",
    "        inv <- x$getInverse()\n",
    "        if (!is.null(inv)) {\n",
    "                message(\"getting cached data\")\n",
    "                return(inv)\n",
    "        }\n",
    "        mat <- x$get()\n",
    "        inv <- solve(mat, ...)\n",
    "        x$setInverse(inv)\n",
    "        inv\n",
    "}\n",
    "\n"
   ]
  }
 ],
 "metadata": {
  "kernelspec": {
   "display_name": "Python 3",
   "language": "python",
   "name": "python3"
  },
  "language_info": {
   "codemirror_mode": {
    "name": "ipython",
    "version": 3
   },
   "file_extension": ".py",
   "mimetype": "text/x-python",
   "name": "python",
   "nbconvert_exporter": "python",
   "pygments_lexer": "ipython3",
   "version": "3.7.6"
  }
 },
 "nbformat": 4,
 "nbformat_minor": 4
}
